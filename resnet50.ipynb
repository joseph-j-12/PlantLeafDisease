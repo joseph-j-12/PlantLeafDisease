{
 "cells": [
  {
   "cell_type": "code",
   "execution_count": 1,
   "id": "d9ed85bb",
   "metadata": {},
   "outputs": [],
   "source": [
    "# ------------------ IMPORTS ------------------\n",
    "from sklearn.metrics import classification_report, confusion_matrix\n",
    "import seaborn as sns\n",
    "import matplotlib.pyplot as plt\n",
    "import os\n",
    "import torchmetrics\n",
    "import wandb\n",
    "import pandas as pd\n",
    "import numpy as np\n",
    "import time\n",
    "from sklearn.manifold import TSNE\n",
    "from sklearn.metrics import roc_curve, auc\n",
    "from sklearn.preprocessing import label_binarize\n",
    "from tqdm import tqdm\n",
    "import shutil\n",
    "import random\n",
    "from pathlib import Path\n",
    "from tabulate import tabulate\n",
    "\n",
    "import torch\n",
    "import torchvision.models as models\n",
    "import torchvision.transforms as transforms\n",
    "from torch import nn\n",
    "\n",
    "import torch.optim as optim\n",
    "\n",
    "import seaborn as sns\n",
    "import matplotlib.pyplot as plt\n",
    "from sklearn.metrics import confusion_matrix\n",
    "from sklearn.metrics import classification_report"
   ]
  },
  {
   "cell_type": "code",
   "execution_count": 2,
   "id": "bf97c24b",
   "metadata": {},
   "outputs": [
    {
     "name": "stdout",
     "output_type": "stream",
     "text": [
      "cuda\n"
     ]
    }
   ],
   "source": [
    "DEVICE = torch.device(\"cuda\" if torch.cuda.is_available() else \"cpu\")\n",
    "NUM_CLASSES = 4\n",
    "EPOCHS = 40\n",
    "PATIENCE = 5  # For early stopping\n",
    "LR = 0.0005\n",
    "BATCH_SIZE = 32\n",
    "\n",
    "print(DEVICE)"
   ]
  },
  {
   "cell_type": "code",
   "execution_count": 3,
   "id": "fe1f0ab0",
   "metadata": {},
   "outputs": [
    {
     "name": "stderr",
     "output_type": "stream",
     "text": [
      "Failed to detect the name of this notebook, you can set it manually with the WANDB_NOTEBOOK_NAME environment variable to enable code saving.\n",
      "\u001b[34m\u001b[1mwandb\u001b[0m: Currently logged in as: \u001b[33mjj_12\u001b[0m (\u001b[33meshaan-rithesh2023-vit-chennai\u001b[0m). Use \u001b[1m`wandb login --relogin`\u001b[0m to force relogin\n",
      "\u001b[34m\u001b[1mwandb\u001b[0m: \u001b[33mWARNING\u001b[0m Unable to render HTML, can't import display from ipython.core\n",
      "\u001b[34m\u001b[1mwandb\u001b[0m: \u001b[33mWARNING\u001b[0m Unable to render HTML, can't import display from ipython.core\n",
      "\u001b[34m\u001b[1mwandb\u001b[0m: \u001b[33mWARNING\u001b[0m Unable to render HTML, can't import display from ipython.core\n",
      "\u001b[34m\u001b[1mwandb\u001b[0m: \u001b[33mWARNING\u001b[0m Unable to render HTML, can't import display from ipython.core\n",
      "\u001b[34m\u001b[1mwandb\u001b[0m: \u001b[33mWARNING\u001b[0m Unable to render HTML, can't import display from ipython.core\n",
      "\u001b[34m\u001b[1mwandb\u001b[0m: \u001b[33mWARNING\u001b[0m Unable to render HTML, can't import display from ipython.core\n"
     ]
    },
    {
     "data": {
      "text/html": [
       "<button onClick=\"this.nextSibling.style.display='block';this.style.display='none';\">Display W&B run</button><iframe src='https://wandb.ai/eshaan-rithesh2023-vit-chennai/heira-test/runs/0okrwbvx?jupyter=true' style='border:none;width:100%;height:420px;display:none;'></iframe>"
      ],
      "text/plain": [
       "<wandb.sdk.wandb_run.Run at 0x7f940f547750>"
      ]
     },
     "execution_count": 3,
     "metadata": {},
     "output_type": "execute_result"
    }
   ],
   "source": [
    "wandb.init(\n",
    "    project=\"heira-test\",\n",
    "    config={\n",
    "        \"architecture\": \"ResNet50\",\n",
    "        \"epochs\": EPOCHS,\n",
    "        \"batch_size\": BATCH_SIZE,\n",
    "        \"learning_rate\": LR,\n",
    "        \"optimizer\": \"Adam\"\n",
    "    }\n",
    ")"
   ]
  },
  {
   "cell_type": "code",
   "execution_count": 4,
   "id": "2907ea5e",
   "metadata": {},
   "outputs": [
    {
     "name": "stdout",
     "output_type": "stream",
     "text": [
      "4\n"
     ]
    }
   ],
   "source": [
    "from torchvision.datasets import ImageFolder\n",
    "from torch.utils.data import DataLoader\n",
    "\n",
    "transform = transforms.Compose([\n",
    "    transforms.Resize((224, 224)),\n",
    "    transforms.ToTensor(),\n",
    "    transforms.Normalize([0.485, 0.456, 0.406],\n",
    "                         [0.229, 0.224, 0.225])  # ImageNet normalization\n",
    "])\n",
    "\n",
    "train_dataset = ImageFolder('data/train', transform=transform)\n",
    "val_dataset = ImageFolder('data/val', transform=transform)\n",
    "class_names = train_dataset.classes\n",
    "\n",
    "train_loader = DataLoader(train_dataset, batch_size=32, shuffle=True)\n",
    "val_loader = DataLoader(val_dataset, batch_size=32)\n",
    "print(len(train_dataset.classes))"
   ]
  },
  {
   "cell_type": "code",
   "execution_count": 5,
   "id": "c2ff71f0",
   "metadata": {},
   "outputs": [],
   "source": [
    "# === DATA LOADERS ===\n",
    "transform = transforms.Compose([\n",
    "    transforms.Resize((224, 224)),\n",
    "    transforms.ToTensor(),\n",
    "    transforms.Normalize(\n",
    "        mean=[0.485, 0.456, 0.406],  # ImageNet stats\n",
    "        std=[0.229, 0.224, 0.225]\n",
    "    )\n",
    "])"
   ]
  },
  {
   "cell_type": "code",
   "execution_count": 6,
   "id": "ebc9d055",
   "metadata": {},
   "outputs": [
    {
     "name": "stderr",
     "output_type": "stream",
     "text": [
      "/home/joseph/anaconda3/envs/plantLeafDisease/lib/python3.11/site-packages/torchvision/models/_utils.py:208: UserWarning: The parameter 'pretrained' is deprecated since 0.13 and may be removed in the future, please use 'weights' instead.\n",
      "  warnings.warn(\n",
      "/home/joseph/anaconda3/envs/plantLeafDisease/lib/python3.11/site-packages/torchvision/models/_utils.py:223: UserWarning: Arguments other than a weight enum or `None` for 'weights' are deprecated since 0.13 and may be removed in the future. The current behavior is equivalent to passing `weights=ResNet50_Weights.IMAGENET1K_V1`. You can also use `weights=ResNet50_Weights.DEFAULT` to get the most up-to-date weights.\n",
      "  warnings.warn(msg)\n"
     ]
    }
   ],
   "source": [
    "train_data = ImageFolder(\"data/train\", transform=transform)\n",
    "val_data = ImageFolder(\"data/val\", transform=transform)\n",
    "\n",
    "train_loader = DataLoader(train_data, batch_size=BATCH_SIZE, shuffle=True)\n",
    "val_loader = DataLoader(val_data, batch_size=BATCH_SIZE)\n",
    "\n",
    "#Model\n",
    "model = models.resnet50(pretrained=True)\n",
    "\n",
    "for param in model.parameters():\n",
    "    param.requires_grad = False\n",
    "\n",
    "model.fc = nn.Linear(model.fc.in_features, NUM_CLASSES)\n",
    "model = model.to(DEVICE) #use cuda\n",
    "\n",
    "# === LOSS & OPTIMIZER ===\n",
    "criterion = nn.CrossEntropyLoss()\n",
    "optimizer = optim.Adam(model.fc.parameters(), lr=LR)"
   ]
  },
  {
   "cell_type": "code",
   "execution_count": null,
   "id": "ad9b8167",
   "metadata": {},
   "outputs": [
    {
     "name": "stdout",
     "output_type": "stream",
     "text": [
      "Epoch 1/40 | Train Loss: 47.2781 | Val Loss: 0.5918 | Val Acc: 90.09%\n",
      "Epoch 2/40 | Train Loss: 23.3323 | Val Loss: 0.3469 | Val Acc: 95.64%\n",
      "Epoch 3/40 | Train Loss: 15.5858 | Val Loss: 0.2585 | Val Acc: 95.90%\n",
      "Epoch 4/40 | Train Loss: 12.7760 | Val Loss: 0.2063 | Val Acc: 96.96%\n",
      "Epoch 5/40 | Train Loss: 9.8620 | Val Loss: 0.1715 | Val Acc: 97.09%\n",
      "Epoch 6/40 | Train Loss: 8.2138 | Val Loss: 0.1474 | Val Acc: 97.62%\n",
      "Epoch 7/40 | Train Loss: 7.8674 | Val Loss: 0.1393 | Val Acc: 97.36%\n",
      "Epoch 8/40 | Train Loss: 6.4886 | Val Loss: 0.1322 | Val Acc: 97.09%\n",
      "Epoch 9/40 | Train Loss: 6.1961 | Val Loss: 0.1149 | Val Acc: 97.36%\n",
      "Epoch 10/40 | Train Loss: 5.6375 | Val Loss: 0.1051 | Val Acc: 98.02%\n",
      "Epoch 11/40 | Train Loss: 5.3738 | Val Loss: 0.1041 | Val Acc: 98.15%\n",
      "Epoch 12/40 | Train Loss: 4.9468 | Val Loss: 0.0968 | Val Acc: 97.89%\n"
     ]
    }
   ],
   "source": [
    "# === WANDB WATCH ===\n",
    "wandb.watch(model, log=\"gradients\", log_freq=100)\n",
    "\n",
    "# === EARLY STOPPING ===\n",
    "best_val_loss = float('inf')\n",
    "patience_counter = 0\n",
    "\n",
    "# === TRAINING LOOP ===\n",
    "for epoch in range(EPOCHS):\n",
    "    model.train()\n",
    "    train_loss = 0.0\n",
    "\n",
    "    for inputs, labels in train_loader:\n",
    "        inputs, labels = inputs.to(DEVICE), labels.to(DEVICE)\n",
    "\n",
    "        optimizer.zero_grad()\n",
    "        outputs = model(inputs)\n",
    "        loss = criterion(outputs, labels)\n",
    "        loss.backward()\n",
    "        optimizer.step()\n",
    "\n",
    "        train_loss += loss.item()\n",
    "        wandb.log({\"batch_loss\": loss.item(), \"epoch\": epoch})\n",
    "\n",
    "    # === VALIDATION ===\n",
    "    model.eval()\n",
    "    val_loss = 0.0\n",
    "    all_preds = []\n",
    "    all_labels = []\n",
    "\n",
    "    with torch.no_grad():\n",
    "        for inputs, labels in val_loader:\n",
    "            inputs, labels = inputs.to(DEVICE), labels.to(DEVICE)\n",
    "            outputs = model(inputs)\n",
    "            loss = criterion(outputs, labels)\n",
    "            val_loss += loss.item()\n",
    "\n",
    "            preds = torch.argmax(outputs, 1)\n",
    "            all_preds.extend(preds.cpu().numpy())\n",
    "            all_labels.extend(labels.cpu().numpy())\n",
    "\n",
    "    val_loss /= len(val_loader)\n",
    "    val_acc = 100 * np.mean(np.array(all_preds) == np.array(all_labels))\n",
    "\n",
    "    # === LOG TO WANDB ===\n",
    "    wandb.log({\n",
    "        \"epoch\": epoch,\n",
    "        \"train_loss\": train_loss / len(train_loader),\n",
    "        \"val_loss\": val_loss,\n",
    "        \"val_accuracy\": val_acc\n",
    "    })\n",
    "\n",
    "    # === CONFUSION MATRIX (Correct WandB Format) ===\n",
    "    pred_table = wandb.Table(columns=[\"ground_truth\", \"prediction\"])\n",
    "    for gt, pred in zip(all_labels, all_preds):\n",
    "        pred_table.add_data(class_names[gt], class_names[pred])\n",
    "\n",
    "    wandb.log({\"confusion_matrix\": wandb.plot.confusion_matrix(\n",
    "        probs=None,\n",
    "        y_true=all_labels,\n",
    "        preds=all_preds,\n",
    "        class_names=class_names\n",
    "    )})\n",
    "\n",
    "    # OR if that still shows plain text, use this instead:\n",
    "    wandb.log({\"conf_mat_table\": pred_table})\n",
    "    wandb.log({\"confusion_matrix\": wandb.plot.confusion_matrix(\n",
    "        y_true=all_labels,\n",
    "        preds=all_preds,\n",
    "        class_names=class_names\n",
    "    )})\n",
    "\n",
    "    report = classification_report(all_labels, all_preds, target_names=class_names, output_dict=True)\n",
    "\n",
    "    wandb.log({\n",
    "        \"precision_macro\": report[\"macro avg\"][\"precision\"],\n",
    "        \"recall_macro\": report[\"macro avg\"][\"recall\"],\n",
    "        \"f1_macro\": report[\"macro avg\"][\"f1-score\"]\n",
    "    })\n",
    "\n",
    "    # Optionally log per-class metrics too\n",
    "    for class_name in class_names:\n",
    "        wandb.log({\n",
    "            f\"{class_name}_precision\": report[class_name][\"precision\"],\n",
    "            f\"{class_name}_recall\": report[class_name][\"recall\"],\n",
    "            f\"{class_name}_f1\": report[class_name][\"f1-score\"]\n",
    "    })\n",
    "    \n",
    "    # === EARLY STOPPING ===\n",
    "    if val_loss < best_val_loss:\n",
    "        best_val_loss = val_loss\n",
    "        patience_counter = 0\n",
    "        torch.save(model.state_dict(), \"best_model.pt\")\n",
    "        wandb.run.summary[\"best_val_loss\"] = best_val_loss\n",
    "    else:\n",
    "        patience_counter += 1\n",
    "        if patience_counter >= PATIENCE:\n",
    "            print(f\"Early stopping triggered at epoch {epoch+1}\")\n",
    "            break\n",
    "\n",
    "    print(f\"Epoch {epoch+1}/{EPOCHS} | Train Loss: {train_loss:.4f} | Val Loss: {val_loss:.4f} | Val Acc: {val_acc:.2f}%\")"
   ]
  },
  {
   "cell_type": "code",
   "execution_count": 9,
   "id": "4b36faa7",
   "metadata": {},
   "outputs": [
    {
     "data": {
      "image/png": "[encoded data removed]",
      "text/plain": [
       "<Figure size 600x600 with 2 Axes>"
      ]
     },
     "metadata": {},
     "output_type": "display_data"
    }
   ],
   "source": [
    "\n",
    "cm = confusion_matrix(all_labels, all_preds)\n",
    "fig, ax = plt.subplots(figsize=(6, 6))\n",
    "sns.heatmap(cm, annot=True, fmt=\"d\", cmap=\"Blues\", xticklabels=class_names, yticklabels=class_names)\n",
    "plt.ylabel(\"Actual\")\n",
    "plt.xlabel(\"Predicted\")\n",
    "wandb.log({\"conf_matrix_img\": wandb.Image(fig)})"
   ]
  },
  {
   "cell_type": "code",
   "execution_count": null,
   "id": "4fd77b3c",
   "metadata": {},
   "outputs": [],
   "source": []
  }
 ],
 "metadata": {
  "kernelspec": {
   "display_name": "plantLeafDisease",
   "language": "python",
   "name": "python3"
  },
  "language_info": {
   "codemirror_mode": {
    "name": "ipython",
    "version": 3
   },
   "file_extension": ".py",
   "mimetype": "text/x-python",
   "name": "python",
   "nbconvert_exporter": "python",
   "pygments_lexer": "ipython3",
   "version": "3.11.13"
  }
 },
 "nbformat": 4,
 "nbformat_minor": 5
}
